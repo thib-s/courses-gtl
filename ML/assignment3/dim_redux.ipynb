{
 "cells": [
  {
   "cell_type": "code",
   "execution_count": 1,
   "metadata": {},
   "outputs": [],
   "source": [
    "# data managment\n",
    "import pandas as pd\n",
    "import numpy as np\n",
    "import scipy as sp\n",
    "from lib.RegressorManager import *\n",
    "from sklearn.externals import joblib\n",
    "# preprocessing \n",
    "from sklearn.pipeline import Pipeline\n",
    "from sklearn.feature_extraction.text import CountVectorizer\n",
    "from sklearn.feature_extraction.text import TfidfTransformer\n",
    "\n",
    "# metrics\n",
    "from sklearn.metrics import mutual_info_score\n",
    "from sklearn.model_selection import GridSearchCV\n",
    "\n",
    "# plotting\n",
    "from mpl_toolkits.mplot3d import Axes3D\n",
    "from lib.PlotLearningCurve import plot_learning_curve\n",
    "from matplotlib import pyplot as plt\n",
    "import seaborn as sns\n",
    "# learning\n",
    "from sklearn.decomposition import PCA, FastICA\n",
    "from sklearn.cluster import KMeans\n",
    "\n",
    "sns.set(color_codes=True)\n",
    "\n",
    "%matplotlib notebook"
   ]
  },
  {
   "cell_type": "code",
   "execution_count": 2,
   "metadata": {},
   "outputs": [
    {
     "name": "stdout",
     "output_type": "stream",
     "text": [
      "[0, 1, 2, 3, 4, 5, 6, 7, 8, 9, 10, 11, 12, 13, 14, 15, 16, 17, 18, 19, 20, 21, 22, 23, 24, 25, 26, 27, 28, 29, 30, 31, 32, 33, 34, 35, 36, 37, 38, 39, 40, 41, 42, 43, 44, 45, 46, 47, 48, 49, 50, 51, 52, 53, 54, 55, 56, 57, 58, 59, 60, 61, 62, 63, 64, 65, 66, 67, 68, 69, 70, 71, 72, 73, 74, 75, 76, 77, 78, 79, 80, 81, 82, 83, 84, 85, 86, 87, 88, 89, 90, 91, 92, 93, 94, 95, 96, 97, 98, 99, 100, 101, 102, 103, 104, 105, 106, 107, 108, 109, 110, 111, 112, 113, 114, 115, 116, 117, 118, 119, 120, 121, 122, 123, 124, 125, 126, 127, 128, 129, 130, 131, 132, 133, 134, 135, 136, 137, 138, 139, 140, 141, 142, 143, 144, 145, 146, 147, 148, 149, 150, 151, 152, 153, 154, 155, 156, 157, 158, 159, 160, 161, 162, 163, 164, 165, 166, 167, 168, 169, 170, 171, 172, 173, 174, 175, 176, 177, 178, 179, 180, 181, 182, 183, 184, 185, 186, 187, 188, 189, 190, 191, 192, 193, 194, 195, 196, 197, 198, 199, 200, 201, 202, 203, 204, 205, 206, 207, 208, 209, 210, 211, 212, 213, 214, 215, 216, 217, 218, 219, 220, 221, 222, 223, 224, 225, 226, 227, 228, 229, 230, 231, 232, 233, 234, 235, 236, 237, 238, 239, 240, 241, 242, 243, 244, 245, 246, 247, 248, 249, 250, 251, 252, 253, 254, 255, 256, 257, 258, 259, 260, 261, 262, 263, 264, 265, 266, 267, 268, 269, 270, 271, 272, 273, 274, 275, 276, 277, 278, 279, 280, 281, 282, 283, 284, 285, 286, 287, 288, 289, 290, 291, 292, 293, 294, 295, 296, 297, 298, 299, 300, 301, 302, 303, 304, 305, 306, 307, 308, 309, 310, 311, 312, 313, 314, 315, 316, 317, 318, 319, 320, 321, 322, 323, 324, 325, 326, 327, 328, 329, 330, 331, 332, 333, 334, 335, 336, 337, 338, 339, 340, 341, 342, 343, 344, 345, 346, 347, 348, 349, 350, 351, 352, 353, 354, 355, 356, 357, 358, 359, 360, 361, 362, 363, 364, 365, 366, 367, 368, 369, 370, 371, 372, 373, 374, 375, 376, 377, 378, 379, 380, 381, 382, 383, 384, 385, 386, 387, 388, 389, 390, 391, 392, 393, 394, 395, 396, 397, 398, 399, 400, 401, 402, 403, 404, 405, 406, 407, 408, 409, 410, 411, 412, 413, 414, 415, 416, 417, 418, 419, 420, 421, 422, 423, 424, 425, 426, 427, 428, 429, 430, 431, 432, 433, 434, 435, 436, 437, 438, 439, 440, 441, 442, 443, 444, 445, 446, 447]\n"
     ]
    }
   ],
   "source": [
    "from sklearn.externals.joblib import Parallel, parallel_backend, register_parallel_backend\n",
    "import ipyparallel as ipp\n",
    "from ipyparallel import Client\n",
    "from ipyparallel.joblib import IPythonParallelBackend\n",
    "c = ipp.Client()\n",
    "print(c.ids)\n",
    "bview = c.load_balanced_view()\n",
    "\n",
    "# this is taken from the ipyparallel source code\n",
    "register_parallel_backend('ipyparallel', lambda : IPythonParallelBackend(view=bview))"
   ]
  },
  {
   "cell_type": "code",
   "execution_count": 3,
   "metadata": {},
   "outputs": [],
   "source": [
    "# load our train and test datasets\n",
    "winemag_df = pd.read_csv(\"datasets/wine_reviews/winemag-data-130k-v2.csv\")"
   ]
  },
  {
   "cell_type": "code",
   "execution_count": 4,
   "metadata": {},
   "outputs": [],
   "source": [
    "fashion_df = pd.read_csv(\"datasets/fashion_mnist/fashion-mnist_test.csv\")"
   ]
  },
  {
   "cell_type": "markdown",
   "metadata": {},
   "source": [
    "data preparation\n",
    "----------------\n",
    "\n",
    "first we need to clean the dataset, for this we will\n",
    " - select relevant columns\n",
    " - drop row containing na value (we can afford this because the ratio *number of row / input space dimension* is still good )\n",
    " - remove duplicate rows"
   ]
  },
  {
   "cell_type": "code",
   "execution_count": 5,
   "metadata": {},
   "outputs": [],
   "source": [
    "X_winemag = winemag_df['description']\n",
    "y_winemag = winemag_df['points']\n",
    "(n_row, n_col) = fashion_df.values.shape\n",
    "X_fashion = fashion_df.values[:, 1:n_col]\n",
    "y_fashion = fashion_df.values[:, 0]"
   ]
  },
  {
   "cell_type": "code",
   "execution_count": 6,
   "metadata": {},
   "outputs": [],
   "source": [
    "pipeline_wine = Pipeline(\n",
    "    [\n",
    "        ('vectorizer', CountVectorizer()),\n",
    "        ('tfidf', TfidfTransformer(use_idf=True))\n",
    "    ]\n",
    ")"
   ]
  },
  {
   "cell_type": "code",
   "execution_count": 7,
   "metadata": {},
   "outputs": [
    {
     "data": {
      "text/plain": [
       "(129971, 31275)"
      ]
     },
     "execution_count": 7,
     "metadata": {},
     "output_type": "execute_result"
    }
   ],
   "source": [
    "# with parallel_backend('ipyparallel'):\n",
    "pipeline_wine.fit(X_winemag, y_winemag)\n",
    "X_winemag_trans = pipeline_wine.transform(X_winemag)\n",
    "X_winemag_trans.shape"
   ]
  },
  {
   "cell_type": "markdown",
   "metadata": {},
   "source": [
    "Fashion MNIST\n",
    "======="
   ]
  },
  {
   "cell_type": "code",
   "execution_count": 8,
   "metadata": {},
   "outputs": [],
   "source": [
    "param_grid = {'n_clusters': range(1, 100)}"
   ]
  },
  {
   "cell_type": "code",
   "execution_count": 9,
   "metadata": {},
   "outputs": [],
   "source": [
    "with parallel_backend('ipyparallel'):\n",
    "    kmeans = KMeans(n_jobs=32)\n",
    "clf = GridSearchCV(kmeans, param_grid, cv=2, verbose=1, n_jobs=14)"
   ]
  },
  {
   "cell_type": "code",
   "execution_count": 10,
   "metadata": {},
   "outputs": [
    {
     "name": "stdout",
     "output_type": "stream",
     "text": [
      "Fitting 2 folds for each of 99 candidates, totalling 198 fits\n"
     ]
    },
    {
     "name": "stderr",
     "output_type": "stream",
     "text": [
      "[Parallel(n_jobs=14)]: Done  99 out of 198 | elapsed:  3.4min remaining:  3.4min\n",
      "exception calling callback for <AsyncResult: <sklearn.externals.joblib.parallel.BatchedCalls object at 0x7fc38184ac50>:finished>\n",
      "Traceback (most recent call last):\n",
      "  File \"/usr/lib/python3.4/concurrent/futures/_base.py\", line 297, in _invoke_callbacks\n",
      "    callback(self)\n",
      "  File \"/home/tboissin/nosave/env_parallel/lib/python3.4/site-packages/ipyparallel/client/_joblib.py\", line 47, in <lambda>\n",
      "    future.add_done_callback(lambda f: callback(f.result()))\n",
      "  File \"/usr/lib/python3.4/concurrent/futures/_base.py\", line 395, in result\n",
      "    return self.__get_result()\n",
      "  File \"/usr/lib/python3.4/concurrent/futures/_base.py\", line 354, in __get_result\n",
      "    raise self._exception\n",
      "  File \"/home/tboissin/nosave/env_parallel/lib/python3.4/site-packages/ipyparallel/client/asyncresult.py\", line 226, in _resolve_result\n",
      "    raise r\n",
      "ipyparallel.error.RemoteError: EngineError(Engine b'cad135df-e805c2d5e898085c627bf736' died while running task 'b731c6be-9f9a4b5ff2cd883196cd51a0')\n",
      "exception calling callback for <AsyncResult: <sklearn.externals.joblib.parallel.BatchedCalls object at 0x7fc3817c5fd0>:finished>\n",
      "Traceback (most recent call last):\n",
      "  File \"/usr/lib/python3.4/concurrent/futures/_base.py\", line 297, in _invoke_callbacks\n",
      "    callback(self)\n",
      "  File \"/home/tboissin/nosave/env_parallel/lib/python3.4/site-packages/ipyparallel/client/_joblib.py\", line 47, in <lambda>\n",
      "    future.add_done_callback(lambda f: callback(f.result()))\n",
      "  File \"/usr/lib/python3.4/concurrent/futures/_base.py\", line 395, in result\n",
      "    return self.__get_result()\n",
      "  File \"/usr/lib/python3.4/concurrent/futures/_base.py\", line 354, in __get_result\n",
      "    raise self._exception\n",
      "  File \"/home/tboissin/nosave/env_parallel/lib/python3.4/site-packages/ipyparallel/client/asyncresult.py\", line 226, in _resolve_result\n",
      "    raise r\n",
      "ipyparallel.error.RemoteError: EngineError(Engine b'd1f1c9b1-c82bea45d93b1703489a3ca5' died while running task '0513d6a0-dba8bdd14dc3ef9f82edcad7')\n"
     ]
    },
    {
     "ename": "RemoteError",
     "evalue": "EngineError(Engine b'cad135df-e805c2d5e898085c627bf736' died while running task 'b731c6be-9f9a4b5ff2cd883196cd51a0')",
     "traceback": [
      "Traceback (most recent call last):",
      "  File \"/home/tboissin/nosave/env_parallel/lib/python3.4/site-packages/ipyparallel/controller/scheduler.py\", line 347, in handle_stranded_tasks",
      "    raise error.EngineError(\"Engine %r died while running task %r\"%(engine, msg_id))",
      "ipyparallel.error.EngineError: Engine b'cad135df-e805c2d5e898085c627bf736' died while running task 'b731c6be-9f9a4b5ff2cd883196cd51a0'"
     ],
     "output_type": "error"
    }
   ],
   "source": [
    "with parallel_backend('ipyparallel'):\n",
    "    clf.fit(X_fashion)"
   ]
  },
  {
   "cell_type": "code",
   "execution_count": 14,
   "metadata": {},
   "outputs": [
    {
     "data": {
      "text/plain": [
       "['gridsearch_kmeans_fashion.pkl']"
      ]
     },
     "execution_count": 14,
     "metadata": {},
     "output_type": "execute_result"
    }
   ],
   "source": [
    "joblib.dump(clf, 'gridsearch_kmeans_fashion.pkl')"
   ]
  },
  {
   "cell_type": "markdown",
   "metadata": {},
   "source": [
    "space study:\n",
    "--------------"
   ]
  },
  {
   "cell_type": "code",
   "execution_count": 15,
   "metadata": {},
   "outputs": [],
   "source": [
    "s = sp.linalg.svd(X_fashion, full_matrices=False, compute_uv=False)"
   ]
  },
  {
   "cell_type": "code",
   "execution_count": null,
   "metadata": {},
   "outputs": [],
   "source": [
    "fig, ax = plt.subplots()\n",
    "ax.plot(s)\n",
    "ax.set_xscale('log')\n",
    "#ax.set_yscale('log')\n",
    "plt.show()"
   ]
  },
  {
   "cell_type": "code",
   "execution_count": 17,
   "metadata": {},
   "outputs": [
    {
     "name": "stdout",
     "output_type": "stream",
     "text": [
      "93584.23439143323\n",
      "21543.19687124636\n",
      "5361.881650998871\n",
      "2.2073418106227582\n",
      "cond:17.45361805477361\n"
     ]
    }
   ],
   "source": [
    "print(s[1])\n",
    "print(s[10])\n",
    "print(s[100])\n",
    "print(s[-1])\n",
    "print(\"cond:\"+str(s[1]/s[100]))"
   ]
  },
  {
   "cell_type": "markdown",
   "metadata": {},
   "source": [
    "which dimension to use for reduction ?\n",
    " - 3 : to plot 3d graph\n",
    " - 9 : as we have 9 categories for classification\n",
    " - other : somewhat inspired by the haussler theorem"
   ]
  },
  {
   "cell_type": "markdown",
   "metadata": {},
   "source": [
    "3d reduction\n",
    "--------------"
   ]
  },
  {
   "cell_type": "code",
   "execution_count": 18,
   "metadata": {},
   "outputs": [
    {
     "data": {
      "text/plain": [
       "PCA(copy=True, iterated_power='auto', n_components=3, random_state=None,\n",
       "  svd_solver='full', tol=0.0, whiten=False)"
      ]
     },
     "execution_count": 18,
     "metadata": {},
     "output_type": "execute_result"
    }
   ],
   "source": [
    "pca = PCA(n_components=3, svd_solver='full')\n",
    "pca.fit(X_fashion)"
   ]
  },
  {
   "cell_type": "code",
   "execution_count": null,
   "metadata": {},
   "outputs": [],
   "source": [
    "fig = plt.figure()\n",
    "ax = Axes3D(fig)\n",
    "low_dim = pca.transform(X_fashion)\n",
    "ax.scatter(low_dim[:, 0], low_dim[:, 1], low_dim[:, 2], c=y_fashion, s=0.1)\n",
    "plt.show()"
   ]
  },
  {
   "cell_type": "code",
   "execution_count": 20,
   "metadata": {},
   "outputs": [
    {
     "data": {
      "text/plain": [
       "FastICA(algorithm='parallel', fun='logcosh', fun_args=None, max_iter=200,\n",
       "    n_components=3, random_state=None, tol=0.0001, w_init=None,\n",
       "    whiten=True)"
      ]
     },
     "execution_count": 20,
     "metadata": {},
     "output_type": "execute_result"
    }
   ],
   "source": [
    "ica = FastICA(n_components=3, algorithm='parallel')\n",
    "ica.fit(X_fashion)"
   ]
  },
  {
   "cell_type": "code",
   "execution_count": null,
   "metadata": {
    "scrolled": true
   },
   "outputs": [],
   "source": [
    "fig = plt.figure()\n",
    "ax = Axes3D(fig)\n",
    "low_dim = ica.transform(X_fashion)\n",
    "ax.scatter(low_dim[:, 0], low_dim[:, 1], low_dim[:, 2], c=y_fashion, s=0.05)\n",
    "plt.show()"
   ]
  },
  {
   "cell_type": "markdown",
   "metadata": {},
   "source": [
    "Wine reviews\n",
    "======="
   ]
  },
  {
   "cell_type": "code",
   "execution_count": null,
   "metadata": {},
   "outputs": [],
   "source": [
    "(_, s2, _) = sp.sparse.linalg.svds(X_winemag_trans, k=1000, return_singular_vectors=True)"
   ]
  },
  {
   "cell_type": "code",
   "execution_count": null,
   "metadata": {},
   "outputs": [],
   "source": [
    "print(sp.sum(s2)/sp.sum(X_winemag_trans.diagonal()))\n",
    "fig, ax = plt.subplots()\n",
    "ax.plot(s2[::-1])\n",
    "ax.set_xscale('log')\n",
    "#ax.set_yscale('log')\n",
    "plt.show()"
   ]
  }
 ],
 "metadata": {
  "kernelspec": {
   "display_name": "Python 3",
   "language": "python",
   "name": "python3"
  },
  "language_info": {
   "codemirror_mode": {
    "name": "ipython",
    "version": 3
   },
   "file_extension": ".py",
   "mimetype": "text/x-python",
   "name": "python",
   "nbconvert_exporter": "python",
   "pygments_lexer": "ipython3",
   "version": "3.4.2"
  }
 },
 "nbformat": 4,
 "nbformat_minor": 2
}
