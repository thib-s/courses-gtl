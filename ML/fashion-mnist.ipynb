{
 "cells": [
  {
   "cell_type": "markdown",
   "metadata": {},
   "source": [
    "Fashion MNIST:\n",
    "==============\n",
    "\n",
    "This notebook contain all the code to train, analyse and compare various ML algorithms"
   ]
  },
  {
   "cell_type": "markdown",
   "metadata": {},
   "source": [
    "let's start with libraries and datasets imports. Note that DistToAverageClassifier is a handmade classifier, that will be used as basis, for algorithm comparison."
   ]
  },
  {
   "cell_type": "code",
   "execution_count": 1,
   "metadata": {
    "collapsed": true
   },
   "outputs": [],
   "source": [
    "import pandas as pd\n",
    "import numpy as np\n",
    "from matplotlib import pyplot as plt\n",
    "from lib.DistToAverageClassifier import *"
   ]
  },
  {
   "cell_type": "code",
   "execution_count": 2,
   "metadata": {
    "collapsed": true
   },
   "outputs": [],
   "source": [
    "# load our train and test datasets\n",
    "train_df = pd.read_csv(\"datasets/fashion_mnist/fashion-mnist_train.csv\")\n",
    "test_df = pd.read_csv(\"datasets/fashion_mnist/fashion-mnist_test.csv\")"
   ]
  },
  {
   "cell_type": "markdown",
   "metadata": {},
   "source": [
    "the differents categories are defined with numbers. Indexes in this array allow the translation between class names and class numbers."
   ]
  },
  {
   "cell_type": "code",
   "execution_count": 3,
   "metadata": {},
   "outputs": [],
   "source": [
    "categories = [\"T-shirt/top\",\n",
    "              \"Trouser\",\n",
    "              \"Pullover\",\n",
    "              \"Dress\",\n",
    "              \"Coat\",\n",
    "              \"Sandal\",\n",
    "              \"Shirt\",\n",
    "              \"Sneaker\",\n",
    "              \"Bag\",\n",
    "              \"Ankle boot\"]"
   ]
  },
  {
   "cell_type": "code",
   "execution_count": 4,
   "metadata": {
    "collapsed": true
   },
   "outputs": [],
   "source": [
    "def gen_image(arr):\n",
    "    \"\"\"\n",
    "    function to display an mnist image from it's pixels array\n",
    "    \"\"\"\n",
    "    image = np.array(arr, dtype='float')\n",
    "    pixels = image.reshape((28, 28))\n",
    "    plt.imshow(pixels, cmap='gray')\n",
    "    plt.show()"
   ]
  },
  {
   "cell_type": "markdown",
   "metadata": {},
   "source": [
    "the reference classifier works as follow:\n",
    "\n",
    "training:\n",
    " - makes an average of the images by category.\n",
    "\n",
    "serving:\n",
    " - find the category that have the least square error with the given image.\n",
    "\n",
    "this classifier is not very clever but it gives a good reference of an easly atteignable score."
   ]
  },
  {
   "cell_type": "code",
   "execution_count": 5,
   "metadata": {},
   "outputs": [
    {
     "data": {
      "text/plain": [
       "DistToAverageClassifier(intValue=0, otherParam=None,\n            stringParam='defaultValue')"
      ]
     },
     "execution_count": 5,
     "metadata": {},
     "output_type": "execute_result"
    }
   ],
   "source": [
    "mean_classifier = DistToAverageClassifier()\n",
    "mean_classifier.fit(train_df)"
   ]
  },
  {
   "cell_type": "markdown",
   "metadata": {},
   "source": [
    "The metric used here is the precision score. As you can see a score of 0.68 seems quite easy to get."
   ]
  },
  {
   "cell_type": "code",
   "execution_count": 6,
   "metadata": {},
   "outputs": [
    {
     "name": "stdout",
     "output_type": "stream",
     "text": [
      "0.6857\n"
     ]
    }
   ],
   "source": [
    "print (mean_classifier.score(test_df.values[:, 1:785], test_df.values[:, 0]))"
   ]
  },
  {
   "cell_type": "code",
   "execution_count": 21,
   "metadata": {},
   "outputs": [
    {
     "data": {
      "image/png": "[encoded data removed]",
      "text/plain": [
       "<matplotlib.figure.Figure at 0x7f577f669c10>"
      ]
     },
     "metadata": {},
     "output_type": "display_data"
    }
   ],
   "source": [
    "gen_image(test_df.values[121, 1:785])"
   ]
  },
  {
   "cell_type": "code",
   "execution_count": null,
   "metadata": {},
   "outputs": [],
   "source": []
  }
 ],
 "metadata": {
  "kernelspec": {
   "display_name": "Python 2",
   "language": "python",
   "name": "python2"
  },
  "language_info": {
   "codemirror_mode": {
    "name": "ipython",
    "version": 2
   },
   "file_extension": ".py",
   "mimetype": "text/x-python",
   "name": "python",
   "nbconvert_exporter": "python",
   "pygments_lexer": "ipython2",
   "version": "2.7.13"
  }
 },
 "nbformat": 4,
 "nbformat_minor": 2
}
