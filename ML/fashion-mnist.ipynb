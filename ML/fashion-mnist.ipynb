{
 "cells": [
  {
   "cell_type": "markdown",
   "metadata": {},
   "source": [
    "Fashion MNIST:\n",
    "==============\n",
    "\n",
    "This notebook contain all the code to train, analyse and compare various ML algorithms"
   ]
  },
  {
   "cell_type": "markdown",
   "metadata": {},
   "source": [
    "let's start with libraries and datasets imports. Note that DistToAverageClassifier is a handmade classifier, that will be used as basis, for algorithm comparison."
   ]
  },
  {
   "cell_type": "code",
   "execution_count": 1,
   "metadata": {
    "collapsed": true
   },
   "outputs": [],
   "source": [
    "import multiprocessing as mp\n",
    "# data manipulation imports\n",
    "import pandas as pd\n",
    "import numpy as np\n",
    "# classification imports\n",
    "from lib.ClassifierManager import *\n",
    "from lib.DistToAverageClassifier import *\n",
    "from sklearn import tree\n",
    "from sklearn.neural_network import MLPClassifier\n",
    "from sklearn.metrics import precision_score\n",
    "# plotting imports\n",
    "from matplotlib import pyplot as plt\n",
    "from mpl_toolkits.mplot3d import axes3d\n",
    "import seaborn as sns\n",
    "sns.set(color_codes=True)"
   ]
  },
  {
   "cell_type": "code",
   "execution_count": 2,
   "metadata": {
    "collapsed": false
   },
   "outputs": [],
   "source": [
    "# init the manager, where we will store all the outputs\n",
    "classification_manager = ClassifierManager()"
   ]
  },
  {
   "cell_type": "code",
   "execution_count": 3,
   "metadata": {
    "collapsed": true
   },
   "outputs": [],
   "source": [
    "# load our train and test datasets\n",
    "train_df = pd.read_csv(\"datasets/fashion_mnist/fashion-mnist_train.csv\")\n",
    "test_df = pd.read_csv(\"datasets/fashion_mnist/fashion-mnist_test.csv\")"
   ]
  },
  {
   "cell_type": "code",
   "execution_count": 4,
   "metadata": {},
   "outputs": [
    {
     "name": "stdout",
     "output_type": "stream",
     "text": [
      "<class 'pandas.core.frame.DataFrame'>\nRangeIndex: 60000 entries, 0 to 59999\nColumns: 785 entries, label to pixel784\ndtypes: int64(785)\nmemory usage: 359.3 MB\n<class 'pandas.core.frame.DataFrame'>\nRangeIndex: 10000 entries, 0 to 9999\nColumns: 785 entries, label to pixel784\ndtypes: int64(785)\nmemory usage: 59.9 MB\n"
     ]
    }
   ],
   "source": [
    "train_df.info()\n",
    "test_df.info()"
   ]
  },
  {
   "cell_type": "markdown",
   "metadata": {},
   "source": [
    "the differents categories are defined with numbers. Indexes in this array allow the translation between class names and class numbers."
   ]
  },
  {
   "cell_type": "code",
   "execution_count": 5,
   "metadata": {
    "collapsed": true
   },
   "outputs": [],
   "source": [
    "categories = [\"T-shirt/top\",\n",
    "              \"Trouser\",\n",
    "              \"Pullover\",\n",
    "              \"Dress\",\n",
    "              \"Coat\",\n",
    "              \"Sandal\",\n",
    "              \"Shirt\",\n",
    "              \"Sneaker\",\n",
    "              \"Bag\",\n",
    "              \"Ankle boot\"]"
   ]
  },
  {
   "cell_type": "code",
   "execution_count": 6,
   "metadata": {
    "collapsed": true
   },
   "outputs": [],
   "source": [
    "def gen_image(arr):\n",
    "    \"\"\"\n",
    "    function to display an mnist image from it's pixels array\n",
    "    \"\"\"\n",
    "    image = np.array(arr, dtype='float')\n",
    "    pixels = image.reshape((28, 28))\n",
    "    plt.imshow(pixels, cmap='gray')\n",
    "    plt.show()\n",
    "\n",
    "\n",
    "def get_x_y_from_df(df: pd.DataFrame):\n",
    "    \"\"\"\n",
    "    turns a pandas df to X and Y vectors usable by scykitlearn\n",
    "    :param df: the dataframe\n",
    "    :return: the X and y vectors needed by scykit\n",
    "    \"\"\"\n",
    "    (n_row, n_col) = df.values.shape\n",
    "    y = df.values[:, 0]\n",
    "    X = df.values[:, 1:n_col]\n",
    "    return X, y\n"
   ]
  },
  {
   "cell_type": "code",
   "execution_count": 7,
   "metadata": {
    "collapsed": true
   },
   "outputs": [],
   "source": [
    "(X_test, y_test) = get_x_y_from_df(test_df)\n",
    "(X_train, y_train) = get_x_y_from_df(train_df)"
   ]
  },
  {
   "cell_type": "markdown",
   "metadata": {},
   "source": [
    "Our first classifier\n",
    "--------------------\n",
    "\n",
    "In order to compare our results we need a classifier as reference.\n",
    "\n",
    "the reference classifier works as follow:\n",
    "\n",
    "training:\n",
    " - makes an average of the images by category.\n",
    "\n",
    "serving:\n",
    " - find the category that have the least square error with the given image.\n",
    "\n",
    "this classifier is not very clever but it gives a good reference of an easly atteignable score."
   ]
  },
  {
   "cell_type": "code",
   "execution_count": 8,
   "metadata": {
    "collapsed": false
   },
   "outputs": [
    {
     "name": "stdout",
     "output_type": "stream",
     "text": [
      "===================================\n* reference *\n===================================\ntraining time:1.4402831620027428\nprediction time:17.95807377700112\nreport             precision    recall  f1-score   support\n\n          0       0.71      0.70      0.70      1000\n          1       0.96      0.90      0.92      1000\n          2       0.59      0.50      0.54      1000\n          3       0.71      0.80      0.75      1000\n          4       0.55      0.60      0.57      1000\n          5       0.48      0.76      0.59      1000\n          6       0.37      0.20      0.26      1000\n          7       0.74      0.79      0.76      1000\n          8       0.93      0.76      0.84      1000\n          9       0.85      0.85      0.85      1000\n\navg / total       0.69      0.69      0.68     10000\n\n"
     ]
    }
   ],
   "source": [
    "res = classification_manager.add_classifier(\n",
    "    \"reference\", \n",
    "    DistToAverageClassifier(), \n",
    "    train_df, test_df, get_x_y_from_df)\n",
    "classification_manager.pretty_print(\"reference\")"
   ]
  },
  {
   "cell_type": "markdown",
   "metadata": {},
   "source": [
    "Trees\n",
    "-----\n",
    "\n",
    "Let's try trees! First, we'll train a tree wil the default parameters (no depth limit)"
   ]
  },
  {
   "cell_type": "code",
   "execution_count": 9,
   "metadata": {
    "collapsed": false
   },
   "outputs": [
    {
     "name": "stdout",
     "output_type": "stream",
     "text": [
      "===================================\n* tree_depth_max *\n===================================\ntraining time:44.2511666529972\nprediction time:0.01804258199990727\nreport             precision    recall  f1-score   support\n\n          0       0.73      0.74      0.74      1000\n          1       0.95      0.96      0.96      1000\n          2       0.68      0.68      0.68      1000\n          3       0.83      0.81      0.82      1000\n          4       0.68      0.69      0.68      1000\n          5       0.91      0.87      0.89      1000\n          6       0.55      0.54      0.54      1000\n          7       0.86      0.86      0.86      1000\n          8       0.91      0.91      0.91      1000\n          9       0.89      0.90      0.90      1000\n\navg / total       0.80      0.80      0.80     10000\n\n"
     ]
    }
   ],
   "source": [
    "res = classification_manager.add_classifier(\n",
    "    \"tree_depth_max\",\n",
    "    tree.DecisionTreeClassifier(),\n",
    "    train_df, test_df, get_x_y_from_df)\n",
    "classification_manager.pretty_print(\"tree_depth_max\")"
   ]
  },
  {
   "cell_type": "markdown",
   "metadata": {},
   "source": [
    "impact of the depth\n",
    "-------------------\n",
    "\n",
    "We will train various trees at various depth to see the impact of this parameter"
   ]
  },
  {
   "cell_type": "code",
   "execution_count": 10,
   "metadata": {},
   "outputs": [],
   "source": [
    "depths = range(1, 20)"
   ]
  },
  {
   "cell_type": "code",
   "execution_count": 11,
   "metadata": {
    "collapsed": false
   },
   "outputs": [],
   "source": [
    "for i in depths:\n",
    "    res = classification_manager.add_classifier(\n",
    "        \"tree_depth\"+str(i),\n",
    "        tree.DecisionTreeClassifier(max_depth=i),\n",
    "        train_df, test_df, get_x_y_from_df)"
   ]
  },
  {
   "cell_type": "code",
   "execution_count": 12,
   "metadata": {
    "collapsed": false
   },
   "outputs": [
    {
     "name": "stderr",
     "output_type": "stream",
     "text": [
      "/home/thibaut/usr/vendors/anaconda3/lib/python3.6/site-packages/sklearn/metrics/classification.py:1113: UndefinedMetricWarning: Precision is ill-defined and being set to 0.0 in labels with no predicted samples.\n  'precision', 'predicted', average, warn_for)\n"
     ]
    }
   ],
   "source": [
    "test_accuracy = []\n",
    "train_accuracy = []\n",
    "test_time = []\n",
    "train_time = []\n",
    "#classifier_size = []\n",
    "\n",
    "for i in depths:\n",
    "    classifier = classification_manager.dict[\"tree_depth\"+str(i)]\n",
    "    predicted = classifier['predicted_data']\n",
    "    test_accuracy.append(precision_score(y_test, predicted, average='macro'))\n",
    "    train_accuracy.append(precision_score(y_train, classifier['instance'].predict(X_train), average='macro'))\n",
    "    train_time.append(classifier['training_duration'])\n",
    "    test_time.append(classifier['prediction_duration'])\n",
    "    #classifier_size.append(utils.get_size(classifier['instance']))"
   ]
  },
  {
   "cell_type": "code",
   "execution_count": 13,
   "metadata": {
    "collapsed": false
   },
   "outputs": [
    {
     "data": {
      "image/png": "[encoded data removed]",
      "text/plain": [
       "<matplotlib.figure.Figure at 0x7f3a79d15f60>"
      ]
     },
     "metadata": {},
     "output_type": "display_data"
    }
   ],
   "source": [
    "fig, ax = plt.subplots()\n",
    "ax.plot(depths, test_accuracy, label='test precision')\n",
    "ax.plot(depths, train_accuracy, label='train precision')\n",
    "ax.set(xlabel='depth', ylabel='accuracy', title='impact of depth on accuracy')\n",
    "ax.grid()\n",
    "\n",
    "plt.legend()\n",
    "fig.savefig(\"figs/trees_accuracy.png\")\n",
    "plt.show()\n"
   ]
  },
  {
   "cell_type": "code",
   "execution_count": 14,
   "metadata": {},
   "outputs": [
    {
     "data": {
      "image/png": "[encoded data removed]",
      "text/plain": [
       "<matplotlib.figure.Figure at 0x7f3a79cf9a90>"
      ]
     },
     "metadata": {},
     "output_type": "display_data"
    }
   ],
   "source": [
    "fig, ax = plt.subplots(2)\n",
    "\n",
    "ax[0].plot(depths, train_time, label='train duration')\n",
    "ax[0].set(xlabel='depth', ylabel='train duration', title='impact of depth on duration')\n",
    "ax[0].grid()\n",
    "\n",
    "ax[1].plot(depths, test_time, label='test duration')\n",
    "ax[1].set(xlabel='depth', ylabel='test duration')\n",
    "ax[1].grid()\n",
    "\n",
    "plt.legend()\n",
    "fig.savefig(\"figs/trees_duration.png\")\n",
    "plt.show()"
   ]
  },
  {
   "cell_type": "markdown",
   "metadata": {},
   "source": [
    "Neural networks\n",
    "---------------"
   ]
  },
  {
   "cell_type": "code",
   "execution_count": 15,
   "metadata": {
    "collapsed": false
   },
   "outputs": [
    {
     "name": "stdout",
     "output_type": "stream",
     "text": [
      "===================================\n* neural_ref *\n===================================\ntraining time:56.45219224700122\nprediction time:0.028006731998175383\nreport             precision    recall  f1-score   support\n\n          0       0.81      0.80      0.80      1000\n          1       0.99      0.96      0.97      1000\n          2       0.83      0.72      0.77      1000\n          3       0.83      0.90      0.86      1000\n          4       0.74      0.82      0.78      1000\n          5       0.94      0.93      0.93      1000\n          6       0.60      0.62      0.61      1000\n          7       0.94      0.89      0.91      1000\n          8       0.97      0.94      0.95      1000\n          9       0.90      0.96      0.93      1000\n\navg / total       0.85      0.85      0.85     10000\n\n"
     ]
    }
   ],
   "source": [
    "res = classification_manager.add_classifier(\n",
    "    \"neural_ref\",\n",
    "    MLPClassifier(solver='adam', alpha=1e-5, max_iter=60000, hidden_layer_sizes=(20, 15), random_state=1),\n",
    "    train_df, test_df, get_x_y_from_df)\n",
    "classification_manager.pretty_print(\"neural_ref\")"
   ]
  },
  {
   "cell_type": "code",
   "execution_count": 16,
   "metadata": {},
   "outputs": [],
   "source": [
    "N = 5\n",
    "values_to_try = []\n",
    "for x, y in np.ndindex((N, N)):\n",
    "    values_to_try.append(((x + 1) * 5, (y + 1) * 5))\n",
    "\n",
    "\n",
    "def train_value(value):\n",
    "    max_iter = 240000\n",
    "    (width, depth) = value\n",
    "    key_name = \"neural_\" + str(width) + \"x\" + str(depth) + \"_iter_\"+str(max_iter)\n",
    "    return classification_manager.add_classifier(\n",
    "        key_name,\n",
    "        MLPClassifier(solver='adam', alpha=1e-5, max_iter=max_iter, hidden_layer_sizes=value, random_state=1),\n",
    "        train_df, test_df, get_x_y_from_df)\n"
   ]
  },
  {
   "cell_type": "code",
   "execution_count": 17,
   "metadata": {},
   "outputs": [],
   "source": [
    "for val in values_to_try:\n",
    "    results = train_value(val)"
   ]
  },
  {
   "cell_type": "code",
   "execution_count": 18,
   "metadata": {},
   "outputs": [
    {
     "name": "stderr",
     "output_type": "stream",
     "text": [
      "/home/thibaut/usr/vendors/anaconda3/lib/python3.6/site-packages/sklearn/metrics/classification.py:1113: UndefinedMetricWarning: Precision is ill-defined and being set to 0.0 in labels with no predicted samples.\n  'precision', 'predicted', average, warn_for)\n"
     ]
    }
   ],
   "source": [
    "test_accuracy = np.zeros((N, N))\n",
    "train_accuracy = np.zeros((N, N))\n",
    "test_time = np.zeros((N, N))\n",
    "train_time = np.zeros((N, N))\n",
    "#classifier_size = []\n",
    "\n",
    "max_iter = 240000\n",
    "for (width, depth) in values_to_try:\n",
    "    x = int(width/5)-1\n",
    "    y = int(depth/5)-1\n",
    "    key_name = \"neural_\" + str(width) + \"x\" + str(depth) + \"_iter_\" + str(max_iter)\n",
    "    classifier = classification_manager.dict[key_name]\n",
    "    predicted = classifier['predicted_data']\n",
    "    test_accuracy[x,y] = precision_score(y_test, predicted, average='macro')\n",
    "    train_accuracy[x,y] = precision_score(y_train, classifier['instance'].predict(X_train), average='macro')\n",
    "    train_time[x,y] = classifier['training_duration']\n",
    "    test_time[x,y] = classifier['prediction_duration']\n",
    "    #classifier_size.append(utils.get_size(classifier['instance']))"
   ]
  },
  {
   "cell_type": "code",
   "execution_count": 19,
   "metadata": {},
   "outputs": [
    {
     "data": {
      "image/png": "[encoded data removed]",
      "text/plain": [
       "<matplotlib.figure.Figure at 0x7f3a7ceb8668>"
      ]
     },
     "metadata": {},
     "output_type": "display_data"
    }
   ],
   "source": [
    "sns.heatmap(test_accuracy, annot=True)\n",
    "plt.show()"
   ]
  },
  {
   "cell_type": "code",
   "execution_count": 21,
   "metadata": {},
   "outputs": [],
   "source": [
    "values_to_try = range(40000, 250000, 10000)\n",
    "\n",
    "\n",
    "def train_value(value):\n",
    "    max_iter = value\n",
    "    (width, depth) = (25, 10)\n",
    "    key_name = \"neural_\" + str(width) + \"x\" + str(depth) + \"_iter_\"+str(max_iter)\n",
    "    return classification_manager.add_classifier(\n",
    "        key_name,\n",
    "        MLPClassifier(solver='adam', alpha=1e-5, max_iter=max_iter, hidden_layer_sizes=value, random_state=1),\n",
    "        train_df, test_df, get_x_y_from_df)\n",
    "\n",
    "for val in values_to_try:\n",
    "    results = train_value(val)\n"
   ]
  },
  {
   "cell_type": "code",
   "execution_count": null,
   "metadata": {},
   "outputs": [],
   "source": [
    "test_accuracy = []\n",
    "train_accuracy = []\n",
    "test_time = []\n",
    "train_time = []\n",
    "#classifier_size = []\n",
    "\n",
    "for i in values_to_try:\n",
    "    classifier = classification_manager.dict[\"neural_25x10_iter_\"+str(i)]\n",
    "    predicted = classifier['predicted_data']\n",
    "    test_accuracy.append(precision_score(y_test, predicted, average='macro'))\n",
    "    train_accuracy.append(precision_score(y_train, classifier['instance'].predict(X_train), average='macro'))\n",
    "    train_time.append(classifier['training_duration'])\n",
    "    test_time.append(classifier['prediction_duration'])\n",
    "    #classifier_size.append(utils.get_size(classifier['instance']))"
   ]
  },
  {
   "cell_type": "code",
   "execution_count": 25,
   "metadata": {},
   "outputs": [],
   "source": [
    "from sklearn.model_selection import ShuffleSplit\n",
    "\n",
    "from lib.PlotLearningCurve import plot_learning_curve\n",
    "\n",
    "title = \"Learning Curve (Neural Network)\"\n",
    "# Cross validation with 100 iterations to get smoother mean test and train\n",
    "# score curves, each time with 20% data randomly selected as a validation set.\n",
    "cv = ShuffleSplit(n_splits=10, test_size=0.2, random_state=0)\n",
    "estimator = MLPClassifier(solver='adam', alpha=1e-5, max_iter=240000, hidden_layer_sizes=(25,10), random_state=1)\n",
    "\n",
    "plot_learning_curve(estimator, title, X_train, y_train, cv=cv, n_jobs=4)\n"
   ]
  }
 ],
 "metadata": {
  "kernelspec": {
   "display_name": "Python 3",
   "language": "python",
   "name": "python3"
  },
  "language_info": {
   "codemirror_mode": {
    "name": "ipython",
    "version": 3
   },
   "file_extension": ".py",
   "mimetype": "text/x-python",
   "name": "python",
   "nbconvert_exporter": "python",
   "pygments_lexer": "ipython3",
   "version": "3.6.0"
  }
 },
 "nbformat": 4,
 "nbformat_minor": 2
}
