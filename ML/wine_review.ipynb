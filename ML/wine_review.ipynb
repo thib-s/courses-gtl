{
 "cells": [
  {
   "cell_type": "markdown",
   "metadata": {},
   "source": [
    "Wine review\n",
    "===========\n",
    "\n",
    "This notebook contains all the code for the wine review problem.\n",
    "As the dataset have a \"points\" field that gives notation of the wine, we will try to perform a regression task to predict the score of a wine."
   ]
  },
  {
   "cell_type": "code",
   "execution_count": null,
   "metadata": {},
   "outputs": [],
   "source": []
  },
  {
   "cell_type": "code",
   "execution_count": 35,
   "metadata": {},
   "outputs": [],
   "source": [
    "# data managment\n",
    "import pandas as pd\n",
    "import numpy as np\n",
    "from lib.RegressorManager import *\n",
    "# preprocessing \n",
    "from sklearn.pipeline import Pipeline\n",
    "from sklearn.model_selection import train_test_split\n",
    "from lib.transformer.auto_transforms import AutoTransform\n",
    "from lib.transformer.basic_transforms import OneHotEncodeTransform\n",
    "# plotting\n",
    "from matplotlib import pyplot as plt\n",
    "import seaborn as sns\n",
    "# learning\n",
    "from sklearn.tree import tree\n",
    "from sklearn.model_selection import cross_val_score\n",
    "\n",
    "\n",
    "sns.set(color_codes=True)"
   ]
  },
  {
   "cell_type": "code",
   "execution_count": 36,
   "metadata": {},
   "outputs": [],
   "source": [
    "# load our train and test datasets\n",
    "initial_df = pd.read_csv(\"datasets/wine_reviews/winemag-data-130k-v2.csv\")"
   ]
  },
  {
   "cell_type": "code",
   "execution_count": 37,
   "metadata": {},
   "outputs": [],
   "source": [
    "regressor_manager = RegressorManager()"
   ]
  },
  {
   "cell_type": "markdown",
   "metadata": {},
   "source": [
    "data preparation\n",
    "----------------\n",
    "\n",
    "first we need to clean the dataset, for this we will\n",
    " - select relevant columns\n",
    " - drop row containing na value (we can afford this because the ratio *number of row / input space dimension* is still good )\n",
    " - remove duplicate rows"
   ]
  },
  {
   "cell_type": "code",
   "execution_count": 38,
   "metadata": {
    "collapsed": false
   },
   "outputs": [
    {
     "name": "stdout",
     "output_type": "stream",
     "text": [
      "there are 75344 entries left after cleaning\n"
     ]
    },
    {
     "data": {
      "text/html": [
       "<div>\n",
       "<style>\n",
       "    .dataframe thead tr:only-child th {\n",
       "        text-align: right;\n",
       "    }\n",
       "\n",
       "    .dataframe thead th {\n",
       "        text-align: left;\n",
       "    }\n",
       "\n",
       "    .dataframe tbody tr th {\n",
       "        vertical-align: top;\n",
       "    }\n",
       "</style>\n",
       "<table border=\"1\" class=\"dataframe\">\n",
       "  <thead>\n",
       "    <tr style=\"text-align: right;\">\n",
       "      <th></th>\n",
       "      <th>country</th>\n",
       "      <th>designation</th>\n",
       "      <th>points</th>\n",
       "      <th>price</th>\n",
       "      <th>province</th>\n",
       "      <th>variety</th>\n",
       "    </tr>\n",
       "  </thead>\n",
       "  <tbody>\n",
       "    <tr>\n",
       "      <th>1</th>\n",
       "      <td>Portugal</td>\n",
       "      <td>Avidagos</td>\n",
       "      <td>87</td>\n",
       "      <td>15.0</td>\n",
       "      <td>Douro</td>\n",
       "      <td>Portuguese Red</td>\n",
       "    </tr>\n",
       "    <tr>\n",
       "      <th>3</th>\n",
       "      <td>US</td>\n",
       "      <td>Reserve Late Harvest</td>\n",
       "      <td>87</td>\n",
       "      <td>13.0</td>\n",
       "      <td>Michigan</td>\n",
       "      <td>Riesling</td>\n",
       "    </tr>\n",
       "    <tr>\n",
       "      <th>4</th>\n",
       "      <td>US</td>\n",
       "      <td>Vintner's Reserve Wild Child Block</td>\n",
       "      <td>87</td>\n",
       "      <td>65.0</td>\n",
       "      <td>Oregon</td>\n",
       "      <td>Pinot Noir</td>\n",
       "    </tr>\n",
       "    <tr>\n",
       "      <th>5</th>\n",
       "      <td>Spain</td>\n",
       "      <td>Ars In Vitro</td>\n",
       "      <td>87</td>\n",
       "      <td>15.0</td>\n",
       "      <td>Northern Spain</td>\n",
       "      <td>Tempranillo-Merlot</td>\n",
       "    </tr>\n",
       "    <tr>\n",
       "      <th>6</th>\n",
       "      <td>Italy</td>\n",
       "      <td>Belsito</td>\n",
       "      <td>87</td>\n",
       "      <td>16.0</td>\n",
       "      <td>Sicily &amp; Sardinia</td>\n",
       "      <td>Frappato</td>\n",
       "    </tr>\n",
       "  </tbody>\n",
       "</table>\n",
       "</div>"
      ],
      "text/plain": [
       "<div>\n",
       "<style>\n",
       "    .dataframe thead tr:only-child th {\n",
       "        text-align: right;\n",
       "    }\n",
       "\n",
       "    .dataframe thead th {\n",
       "        text-align: left;\n",
       "    }\n",
       "\n",
       "    .dataframe tbody tr th {\n",
       "        vertical-align: top;\n",
       "    }\n",
       "</style>\n",
       "<table border=\"1\" class=\"dataframe\">\n",
       "  <thead>\n",
       "    <tr style=\"text-align: right;\">\n",
       "      <th></th>\n",
       "      <th>country</th>\n",
       "      <th>designation</th>\n",
       "      <th>points</th>\n",
       "      <th>price</th>\n",
       "      <th>province</th>\n",
       "      <th>variety</th>\n",
       "    </tr>\n",
       "  </thead>\n",
       "  <tbody>\n",
       "    <tr>\n",
       "      <th>1</th>\n",
       "      <td>Portugal</td>\n",
       "      <td>Avidagos</td>\n",
       "      <td>87</td>\n",
       "      <td>15.0</td>\n",
       "      <td>Douro</td>\n",
       "      <td>Portuguese Red</td>\n",
       "    </tr>\n",
       "    <tr>\n",
       "      <th>3</th>\n",
       "      <td>US</td>\n",
       "      <td>Reserve Late Harvest</td>\n",
       "      <td>87</td>\n",
       "      <td>13.0</td>\n",
       "      <td>Michigan</td>\n",
       "      <td>Riesling</td>\n",
       "    </tr>\n",
       "    <tr>\n",
       "      <th>4</th>\n",
       "      <td>US</td>\n",
       "      <td>Vintner's Reserve Wild Child Block</td>\n",
       "      <td>87</td>\n",
       "      <td>65.0</td>\n",
       "      <td>Oregon</td>\n",
       "      <td>Pinot Noir</td>\n",
       "    </tr>\n",
       "    <tr>\n",
       "      <th>5</th>\n",
       "      <td>Spain</td>\n",
       "      <td>Ars In Vitro</td>\n",
       "      <td>87</td>\n",
       "      <td>15.0</td>\n",
       "      <td>Northern Spain</td>\n",
       "      <td>Tempranillo-Merlot</td>\n",
       "    </tr>\n",
       "    <tr>\n",
       "      <th>6</th>\n",
       "      <td>Italy</td>\n",
       "      <td>Belsito</td>\n",
       "      <td>87</td>\n",
       "      <td>16.0</td>\n",
       "      <td>Sicily &amp; Sardinia</td>\n",
       "      <td>Frappato</td>\n",
       "    </tr>\n",
       "  </tbody>\n",
       "</table>\n",
       "</div>"
      ]
     },
     "execution_count": 38,
     "metadata": {},
     "output_type": "execute_result"
    }
   ],
   "source": [
    "clean_df = initial_df.copy()\n",
    "include = ['country', 'designation', 'points', 'price', 'province', 'variety']\n",
    "categorical = ['country', 'designation', 'province', 'variety']\n",
    "clean_df = clean_df[include]\n",
    "clean_df = clean_df.dropna(axis=0, how='any')\n",
    "clean_df = clean_df.drop_duplicates(subset=include)\n",
    "print(\"there are \" + str(len(clean_df)) + \" entries left after cleaning\")\n",
    "clean_df.head()"
   ]
  },
  {
   "cell_type": "markdown",
   "metadata": {},
   "source": [
    "now we have clean data, we can grab some infos about the datatset"
   ]
  },
  {
   "cell_type": "code",
   "execution_count": 39,
   "metadata": {},
   "outputs": [
    {
     "name": "stdout",
     "output_type": "stream",
     "text": [
      "mean:37.93065141218943\nmedian:29.0\nvariance:1399.0479753349093\nmin:4.0\nmax:2013.0\n"
     ]
    }
   ],
   "source": [
    "print(\"mean:\"+str(np.mean(clean_df.query('price>0')['price'])))\n",
    "print(\"median:\" + str(np.median(clean_df.query('price>0')['price'])))\n",
    "print(\"variance:\" + str(np.var(clean_df.query('price>0')['price'])))\n",
    "print(\"min:\" + str(np.min(clean_df.query('price>0')['price'])))\n",
    "print(\"max:\" + str(np.max(clean_df.query('price>0')['price'])))"
   ]
  },
  {
   "cell_type": "code",
   "execution_count": 40,
   "metadata": {
    "collapsed": false
   },
   "outputs": [
    {
     "name": "stdout",
     "output_type": "stream",
     "text": [
      "<class 'pandas.core.frame.DataFrame'>\nInt64Index: 75344 entries, 1 to 129970\nData columns (total 6 columns):\ncountry        75344 non-null object\ndesignation    75344 non-null object\npoints         75344 non-null int64\nprice          75344 non-null float64\nprovince       75344 non-null object\nvariety        75344 non-null object\ndtypes: float64(1), int64(1), object(4)\nmemory usage: 4.0+ MB\nNone\n"
     ]
    },
    {
     "data": {
      "image/png": "[encoded data removed]",
      "text/plain": [
       "<matplotlib.figure.Figure at 0x7f9019043fd0>"
      ]
     },
     "metadata": {},
     "output_type": "display_data"
    }
   ],
   "source": [
    "print(clean_df.info())\n",
    "fig, ax = plt.subplots(2)\n",
    "ax[0].hist(clean_df.query('(price>0)and(price<400)')['price'], 200)\n",
    "ax[0].set_xlabel('price')\n",
    "ax[0].set_title(\"repartition of wine prices\")\n",
    "ax[1].hist(np.log(clean_df.query('(price>0)and(price<400)')['price']), 40)\n",
    "ax[1].set_xlabel('log(price)')\n",
    "fig.tight_layout()\n",
    "plt.show()"
   ]
  },
  {
   "cell_type": "code",
   "execution_count": 41,
   "metadata": {},
   "outputs": [
    {
     "data": {
      "image/png": "[encoded data removed]",
      "text/plain": [
       "<matplotlib.figure.Figure at 0x7f901cf2a390>"
      ]
     },
     "metadata": {},
     "output_type": "display_data"
    }
   ],
   "source": [
    "fig, ax = plt.subplots()\n",
    "ax.hist(clean_df['points'], 20)\n",
    "ax.set_xlabel('points')\n",
    "ax.set_title(\"repartition of wine scores\")\n",
    "plt.show()"
   ]
  },
  {
   "cell_type": "code",
   "execution_count": 42,
   "metadata": {
    "collapsed": false
   },
   "outputs": [
    {
     "name": "stdout",
     "output_type": "stream",
     "text": [
      "           price    points\nprice   1.000000  0.455702\npoints  0.455702  1.000000\n"
     ]
    }
   ],
   "source": [
    "corr = clean_df[['price', 'points']].corr()\n",
    "print(corr)"
   ]
  },
  {
   "cell_type": "markdown",
   "metadata": {},
   "source": [
    "Now we can split the dataset:"
   ]
  },
  {
   "cell_type": "code",
   "execution_count": 43,
   "metadata": {},
   "outputs": [],
   "source": [
    "X = clean_df[['country', 'designation', 'price', 'province', 'variety']]\n",
    "y = clean_df['points']\n",
    "X_train, X_test, y_train, y_test = train_test_split(X, y, test_size=0.33, random_state=42)"
   ]
  },
  {
   "cell_type": "markdown",
   "metadata": {},
   "source": [
    "then we can prepare the dataset for use with scikit learn\n",
    "\n",
    "first we need to reduce the number of categorical features, we need additionnal info to choose proper number of features wanted"
   ]
  },
  {
   "cell_type": "code",
   "execution_count": 44,
   "metadata": {},
   "outputs": [
    {
     "name": "stdout",
     "output_type": "stream",
     "text": [
      "90 categories for designation have more than 20 elements\n"
     ]
    },
    {
     "name": "stdout",
     "output_type": "stream",
     "text": [
      "28 categories for country have more than 20 elements\n114 categories for province have more than 20 elements\n129 categories for variety have more than 20 elements\n"
     ]
    }
   ],
   "source": [
    "print(str(len(np.where(X_train['designation'].value_counts() > 20)[0])) + \" categories for designation have more than 20 elements\")\n",
    "print(str(len(np.where(X_train['country'].value_counts() > 20)[0])) + \" categories for country have more than 20 elements\")\n",
    "print(str(len(np.where(X_train['province'].value_counts() > 20)[0])) + \" categories for province have more than 20 elements\")\n",
    "print(str(len(np.where(X_train['variety'].value_counts() > 20)[0])) + \" categories for variety have more than 20 elements\")"
   ]
  },
  {
   "cell_type": "markdown",
   "metadata": {},
   "source": [
    "the auto transform is used here to reduce the number of categories, and to normalize the numerical features.\n",
    "The get_dummies act as an onehot encoder."
   ]
  },
  {
   "cell_type": "code",
   "execution_count": 45,
   "metadata": {},
   "outputs": [],
   "source": [
    "pipeline = Pipeline(\n",
    "    [\n",
    "        ('auto_transform', AutoTransform(include=include,\n",
    "                                         force_categorical=categorical,\n",
    "                                         max_cat_percent=75, min_cat_percent=0.0005,\n",
    "                                         nan_threshold=0.5)),\n",
    "        ('one_hot', OneHotEncodeTransform(excluded=['price']))\n",
    "    ]\n",
    ")\n"
   ]
  },
  {
   "cell_type": "code",
   "execution_count": 46,
   "metadata": {
    "collapsed": false
   },
   "outputs": [
    {
     "name": "stderr",
     "output_type": "stream",
     "text": [
      "/home/thibaut/Documents/cours/GT/spring 2018/courses/ML/lib/transformer/auto_transforms.py:204: SettingWithCopyWarning: \nA value is trying to be set on a copy of a slice from a DataFrame.\nTry using .loc[row_indexer,col_indexer] = value instead\n\nSee the caveats in the documentation: http://pandas.pydata.org/pandas-docs/stable/indexing.html#indexing-view-versus-copy\n  df[col] = df[col].apply(lambda x: np.nan if isinstance(x, str) and len(x)==0 else x)\n"
     ]
    },
    {
     "data": {
      "text/plain": [
       "Pipeline(steps=[('auto_transform', AutoTransform(bool_map={'true': 1, 'false': 0, '1': 1, '0': 0, 'yes': 1, 'no': 0, '1.0': 1, '0.0': 0},\n       cat_missing_val='UKN', create_date_differences=False,\n       custom_date_formats=None, date_cols=[],\n       date_transforms=[True, True, True, True], drop_cols=[],\n...5, min_max_limit=False, nan_threshold=0.5)), ('one_hot', OneHotEncodeTransform(excluded=['price']))])"
      ]
     },
     "execution_count": 46,
     "metadata": {},
     "output_type": "execute_result"
    }
   ],
   "source": [
    "pipeline.fit(X_train, y_train)"
   ]
  },
  {
   "cell_type": "code",
   "execution_count": 47,
   "metadata": {
    "collapsed": false
   },
   "outputs": [],
   "source": [
    "X_test_prepared = pipeline.transform(X_test)\n",
    "to_drop = X_test_prepared.loc[:, X_test_prepared.isnull().any()].columns\n",
    "X_test_prepared = X_test_prepared.drop(to_drop, axis=1)\n",
    "X_train_prepared = pipeline.transform(X_train)\n",
    "to_drop = X_train_prepared.loc[:, X_train_prepared.isnull().any()].columns\n",
    "X_train_prepared = X_train_prepared.drop(to_drop, axis=1)"
   ]
  },
  {
   "cell_type": "markdown",
   "metadata": {},
   "source": [
    "Trees\n",
    "====="
   ]
  },
  {
   "cell_type": "code",
   "execution_count": 48,
   "metadata": {},
   "outputs": [
    {
     "data": {
      "text/plain": [
       "DecisionTreeRegressor(criterion='mse', max_depth=None, max_features=None,\n           max_leaf_nodes=None, min_impurity_split=1e-07,\n           min_samples_leaf=1, min_samples_split=2,\n           min_weight_fraction_leaf=0.0, presort=False, random_state=None,\n           splitter='best')"
      ]
     },
     "execution_count": 48,
     "metadata": {},
     "output_type": "execute_result"
    }
   ],
   "source": [
    "\n",
    "my_tree = tree.DecisionTreeRegressor()\n",
    "my_tree.fit(X_train_prepared, y_train)"
   ]
  },
  {
   "cell_type": "code",
   "execution_count": 49,
   "metadata": {},
   "outputs": [
    {
     "name": "stdout",
     "output_type": "stream",
     "text": [
      "0.669001706511\n0.266357561849\n"
     ]
    }
   ],
   "source": [
    "print(my_tree.score(X_train_prepared, y_train))\n",
    "print(my_tree.score(X_test_prepared, y_test))"
   ]
  },
  {
   "cell_type": "code",
   "execution_count": 50,
   "metadata": {},
   "outputs": [
    {
     "data": {
      "text/plain": [
       "0.00030798793315752696"
      ]
     },
     "execution_count": 50,
     "metadata": {},
     "output_type": "execute_result"
    }
   ],
   "source": [
    "np.var(cross_val_score(my_tree, X_train_prepared, y_train, cv=10))"
   ]
  },
  {
   "cell_type": "code",
   "execution_count": 51,
   "metadata": {},
   "outputs": [
    {
     "data": {
      "text/plain": [
       "2.0766629028917634"
      ]
     },
     "execution_count": 51,
     "metadata": {},
     "output_type": "execute_result"
    }
   ],
   "source": [
    "mean_absolute_error(y_test, my_tree.predict(X_test_prepared))"
   ]
  },
  {
   "cell_type": "code",
   "execution_count": 52,
   "metadata": {},
   "outputs": [],
   "source": [
    "depths = range(1, 20)"
   ]
  },
  {
   "cell_type": "code",
   "execution_count": 53,
   "metadata": {},
   "outputs": [],
   "source": [
    "for i in depths:\n",
    "    res = regressor_manager.add_regressor(\n",
    "        \"tree_depth\"+str(i),\n",
    "        tree.DecisionTreeRegressor(max_depth=i),\n",
    "        X_train_prepared, y_train, X_test_prepared, y_test)"
   ]
  },
  {
   "cell_type": "code",
   "execution_count": 54,
   "metadata": {},
   "outputs": [],
   "source": [
    "test_accuracy = []\n",
    "train_accuracy = []\n",
    "test_time = []\n",
    "train_time = []\n",
    "\n",
    "for i in depths:\n",
    "    classifier = regressor_manager.dict[\"tree_depth\"+str(i)]\n",
    "    predicted = classifier['predicted_data']\n",
    "    test_accuracy.append(mean_absolute_error(y_test, predicted))\n",
    "    train_accuracy.append(mean_absolute_error(y_train, classifier['instance'].predict(X_train_prepared)))\n",
    "    train_time.append(classifier['training_duration'])\n",
    "    test_time.append(classifier['prediction_duration'])\n",
    "    #classifier_size.append(utils.get_size(classifier['instance']))"
   ]
  },
  {
   "cell_type": "code",
   "execution_count": 56,
   "metadata": {},
   "outputs": [
    {
     "data": {
      "image/png": "[encoded data removed]",
      "text/plain": [
       "<matplotlib.figure.Figure at 0x7f90199179b0>"
      ]
     },
     "metadata": {},
     "output_type": "display_data"
    }
   ],
   "source": [
    "fig, ax = plt.subplots(2)\n",
    "\n",
    "ax[0].plot(depths, train_time, label='train duration')\n",
    "ax[0].set(xlabel='depth', ylabel='train duration', title='impact of depth on duration')\n",
    "ax[0].grid()\n",
    "\n",
    "ax[1].plot(depths, test_time, label='test duration')\n",
    "ax[1].set(xlabel='depth', ylabel='test duration')\n",
    "ax[1].grid()\n",
    "\n",
    "plt.legend()\n",
    "fig.savefig(\"figs/wine_trees_duration.png\")\n",
    "plt.show()"
   ]
  },
  {
   "cell_type": "markdown",
   "metadata": {},
   "source": [
    "Neural networks\n",
    "---------------"
   ]
  },
  {
   "cell_type": "code",
   "execution_count": 57,
   "metadata": {},
   "outputs": [],
   "source": [
    "from sklearn.neural_network import MLPRegressor\n",
    "\n",
    "N = 5\n",
    "values_to_try = []\n",
    "for x, y in np.ndindex((N, N)):\n",
    "    values_to_try.append(((x + 1) * 5, (y + 1) * 5))\n",
    "\n",
    "\n",
    "def train_value(value):\n",
    "    max_iter = 200000\n",
    "    (width, depth) = value\n",
    "    key_name = \"neural_\" + str(width) + \"x\" + str(depth) + \"_iter_\"+str(max_iter)\n",
    "    return regressor_manager.add_regressor(\n",
    "        key_name,\n",
    "        MLPRegressor(solver='adam', alpha=1e-5, max_iter=max_iter, hidden_layer_sizes=value, random_state=1),\n",
    "        X_train_prepared, y_train, X_test_prepared, y_test)\n",
    "\n",
    "for val in values_to_try:\n",
    "    results = train_value(val)"
   ]
  },
  {
   "cell_type": "code",
   "execution_count": 62,
   "metadata": {},
   "outputs": [],
   "source": [
    "test_accuracy = np.zeros((N, N))\n",
    "train_accuracy = np.zeros((N, N))\n",
    "test_time = np.zeros((N, N))\n",
    "train_time = np.zeros((N, N))\n",
    "#classifier_size = []\n",
    "\n",
    "max_iter = 200000\n",
    "for (width, depth) in values_to_try:\n",
    "    x = int(width/5)-1\n",
    "    y = int(depth/5)-1\n",
    "    key_name = \"neural_\" + str(width) + \"x\" + str(depth) + \"_iter_\" + str(max_iter)\n",
    "    classifier = regressor_manager.dict[key_name]\n",
    "    predicted = classifier['predicted_data']\n",
    "    test_accuracy[x,y] = mean_absolute_error(y_test, predicted)\n",
    "    train_accuracy[x,y] = mean_absolute_error(y_train, classifier['instance'].predict(X_train_prepared))\n",
    "    train_time[x,y] = classifier['training_duration']\n",
    "    test_time[x,y] = classifier['prediction_duration']\n",
    "    #classifier_size.append(utils.get_size(classifier['instance']))"
   ]
  },
  {
   "cell_type": "code",
   "execution_count": 63,
   "metadata": {},
   "outputs": [
    {
     "data": {
      "image/png": "[encoded data removed]",
      "text/plain": [
       "<matplotlib.figure.Figure at 0x7f901cf14e48>"
      ]
     },
     "metadata": {},
     "output_type": "display_data"
    }
   ],
   "source": [
    "sns.heatmap(test_accuracy, annot=True)\n",
    "plt.savefig(\"figs/wine_NN_gridsearch.png\")\n",
    "plt.show()"
   ]
  }
 ],
 "metadata": {
  "kernelspec": {
   "display_name": "Python 2",
   "language": "python",
   "name": "python2"
  },
  "language_info": {
   "codemirror_mode": {
    "name": "ipython",
    "version": 2
   },
   "file_extension": ".py",
   "mimetype": "text/x-python",
   "name": "python",
   "nbconvert_exporter": "python",
   "pygments_lexer": "ipython2",
   "version": "2.7.13"
  }
 },
 "nbformat": 4,
 "nbformat_minor": 2
}
