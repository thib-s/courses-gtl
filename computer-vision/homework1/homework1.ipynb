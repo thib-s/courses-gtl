{
 "cells": [
  {
   "cell_type": "code",
   "execution_count": 1,
   "metadata": {
    "collapsed": true
   },
   "outputs": [],
   "source": [
    "# import the libraries\n",
    "import cv2\n",
    "import numpy as np\n",
    "import pylab"
   ]
  },
  {
   "cell_type": "code",
   "execution_count": 2,
   "metadata": {},
   "outputs": [
    {
     "data": {
      "image/png": "[encoded data removed]",
      "text/plain": [
       "<matplotlib.figure.Figure at 0x7fccfa184410>"
      ]
     },
     "metadata": {},
     "output_type": "display_data"
    }
   ],
   "source": [
    "# load the image and convert it to grey\n",
    "img = cv2.imread('ps1-input0.png')\n",
    "gray = cv2.cvtColor(img, cv2.COLOR_BGR2GRAY)\n",
    "pylab.imshow(gray,cmap=pylab.gray())\n",
    "pylab.show()"
   ]
  },
  {
   "cell_type": "markdown",
   "metadata": {},
   "source": [
    "Question 1.a:\n",
    "---------------\n",
    "apply the canny edge filter on the image.\n",
    "*note:* as this image don't have any noise, we don't need to add gaussian blur"
   ]
  },
  {
   "cell_type": "code",
   "execution_count": 3,
   "metadata": {},
   "outputs": [
    {
     "data": {
      "image/png": "[encoded data removed]",
      "text/plain": [
       "<matplotlib.figure.Figure at 0x7fccc6de4b10>"
      ]
     },
     "metadata": {},
     "output_type": "display_data"
    }
   ],
   "source": [
    "# apply canny edge detector\n",
    "img1 = cv2.GaussianBlur( src=gray, ksize=(5,5), sigmaX=2, sigmaY=2, borderType=cv2.BORDER_REFLECT)\n",
    "edges = cv2.Canny(gray,50,100,apertureSize = 7)\n",
    "pylab.imshow(edges,cmap=pylab.gray())\n",
    "pylab.show()"
   ]
  },
  {
   "cell_type": "markdown",
   "metadata": {},
   "source": [
    "Question 2:\n",
    "-------------\n",
    "Write a Hough method for finding lines."
   ]
  },
  {
   "cell_type": "code",
   "execution_count": 4,
   "metadata": {
    "collapsed": true
   },
   "outputs": [],
   "source": [
    "# hough method parameters\n",
    "N = 100 # number of subdivision for theta and d"
   ]
  },
  {
   "cell_type": "markdown",
   "metadata": {},
   "source": [
    "note that as the picture has no noise at all, we can pick N = sqrt(256^2 + 256^2) wich gives us a 1px resolution"
   ]
  },
  {
   "cell_type": "code",
   "execution_count": 5,
   "metadata": {},
   "outputs": [],
   "source": [
    "def get_H_pos(d, dmax):\n",
    "    \"\"\"\n",
    "    return the column corresponding to d in H\n",
    "    \"\"\"\n",
    "    return int((d + dmax) * N/(2*dmax))\n",
    "\n",
    "def get_vote(img, N=100, dmax=None):\n",
    "    \"\"\"\n",
    "    apply hough filter on the edges images\n",
    "    \"\"\"\n",
    "    if dmax==None:\n",
    "        dmax = np.math.sqrt(img.shape[0]**2+img.shape[1]**2)\n",
    "    H = np.zeros((N,N))\n",
    "    edge_points = np.argwhere(img>1)\n",
    "    for point in edge_points:\n",
    "        for theta_bin in range(0, N):\n",
    "            theta = theta_bin*np.math.pi/N\n",
    "            d = point[0] * np.math.cos(theta) - point[1] * np.math.sin(theta)\n",
    "            d_bin = get_H_pos(d, dmax)\n",
    "            H[d_bin,theta_bin] = H[d_bin,theta_bin] + 1\n",
    "    return H"
   ]
  },
  {
   "cell_type": "code",
   "execution_count": 6,
   "metadata": {},
   "outputs": [
    {
     "data": {
      "image/png": "[encoded data removed]",
      "text/plain": [
       "<matplotlib.figure.Figure at 0x7fccc6cee0d0>"
      ]
     },
     "metadata": {},
     "output_type": "display_data"
    }
   ],
   "source": [
    "# apply hough algorithm\n",
    "H = get_vote(edges, N)\n",
    "# print hough transform\n",
    "maximum = np.max(H)\n",
    "hough_img = np.vectorize(lambda x: int(255*x/ maximum))(H)\n",
    "pylab.imshow(hough_img, cmap=pylab.gray())\n",
    "pylab.show()"
   ]
  },
  {
   "cell_type": "markdown",
   "metadata": {},
   "source": [
    "as you can see there are 3 bright spots with the same theta=pi/2 there is also 3 bright sport with theta=pi (or 0)"
   ]
  },
  {
   "cell_type": "code",
   "execution_count": 7,
   "metadata": {},
   "outputs": [
    {
     "data": {
      "text/plain": [
       "True"
      ]
     },
     "execution_count": 7,
     "metadata": {},
     "output_type": "execute_result"
    }
   ],
   "source": [
    "# save picture\n",
    "cv2.imwrite(\"ps1-2-1.jpg\", hough_img)"
   ]
  },
  {
   "cell_type": "markdown",
   "metadata": {},
   "source": [
    "now we are able to create the accumulator, we need to extract edges from it.\n",
    "First let's define some utility functions:"
   ]
  },
  {
   "cell_type": "code",
   "execution_count": 8,
   "metadata": {},
   "outputs": [],
   "source": [
    "def remove_feature(img, d_bin, theta_bin, dmax):\n",
    "    \"\"\"\n",
    "    utility function that remove the pixel that lead to a given feature\n",
    "    @param img: the image where you want to remove pixels\n",
    "    @param d_bin theta_bin: the feature\n",
    "    \"\"\"\n",
    "    (xmax,ymax) = img.shape\n",
    "    for x in range(xmax):\n",
    "        for y in range(ymax):\n",
    "            theta = theta_bin*np.math.pi/N\n",
    "            expected_d = x * np.math.cos(theta) - y * np.math.sin(theta)\n",
    "            expected_d_bin = get_H_pos(expected_d, dmax)\n",
    "            if expected_d_bin == d_bin:\n",
    "                img[x,y] = 0 # remove the pixel\n",
    "    return img\n",
    "\n",
    "def convert_bins(d_bin, theta_bin, dmax, N):\n",
    "    d = (d_bin*2*dmax/N)-dmax\n",
    "    theta = theta_bin*np.math.pi/N\n",
    "    return (d, theta)"
   ]
  },
  {
   "cell_type": "code",
   "execution_count": 9,
   "metadata": {},
   "outputs": [],
   "source": [
    "def polar_features_extract(edges, N=100, minimum_votes=50):\n",
    "    \"\"\"\n",
    "    return the list of polar coordinates corresponding to the lines extracted by hough filter\n",
    "    @param edges: the image of the edges obtained by canny filter\n",
    "    @param N: the resolution param ( number of bins ) * accuracy of lines localization *\n",
    "    @param: minimum_votes: the minimal number of votes needed to be considered as feature * depth of the search *\n",
    "    \"\"\"\n",
    "    # initialize algorithm\n",
    "    remaining_edges = edges.copy()\n",
    "    dmax = np.math.sqrt(img.shape[0]**2+img.shape[1]**2)\n",
    "    H = get_vote(edges, N, dmax)\n",
    "    maximum = np.max(H)\n",
    "    bin_features = []\n",
    "    features = []\n",
    "    while maximum > minimum_votes:\n",
    "        # add the maximum (ie. line) to the list of features\n",
    "        new_features = np.argwhere(H==maximum)\n",
    "        for (d_bin, theta_bin) in new_features:\n",
    "            bin_features.insert(0, (d_bin, theta_bin))\n",
    "            # remove the corresponding points from the original image\n",
    "            remaining_edges = remove_feature(remaining_edges, d_bin, theta_bin, dmax)\n",
    "        # recompute accumulator and maxima\n",
    "        H = get_vote(remaining_edges, N)\n",
    "        maximum = np.max(H)\n",
    "    for (d_bin, theta_bin) in bin_features:\n",
    "        features.insert(0,convert_bins(d_bin, theta_bin, dmax, N))\n",
    "    return features"
   ]
  },
  {
   "cell_type": "code",
   "execution_count": 10,
   "metadata": {
    "collapsed": true
   },
   "outputs": [],
   "source": [
    "def draw_feature(img, feature):\n",
    "    pass"
   ]
  },
  {
   "cell_type": "code",
   "execution_count": 11,
   "metadata": {},
   "outputs": [],
   "source": [
    "polar_features = polar_features_extract(edges)"
   ]
  },
  {
   "cell_type": "markdown",
   "metadata": {},
   "source": []
  }
 ],
 "metadata": {
  "kernelspec": {
   "display_name": "Python 2",
   "language": "python",
   "name": "python2"
  },
  "language_info": {
   "codemirror_mode": {
    "name": "ipython",
    "version": 2
   },
   "file_extension": ".py",
   "mimetype": "text/x-python",
   "name": "python",
   "nbconvert_exporter": "python",
   "pygments_lexer": "ipython2",
   "version": "2.7.13"
  }
 },
 "nbformat": 4,
 "nbformat_minor": 2
}
