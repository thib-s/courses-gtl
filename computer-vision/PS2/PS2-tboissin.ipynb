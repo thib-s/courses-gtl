{
 "cells": [
  {
   "cell_type": "code",
   "execution_count": 6,
   "metadata": {
    "collapsed": true
   },
   "outputs": [],
   "source": [
    "# import the libraries\n",
    "import cv2\n",
    "import numpy as np\n",
    "import pylab\n",
    "from cudamodules import StereoMatchingBasic"
   ]
  },
  {
   "cell_type": "code",
   "execution_count": null,
   "metadata": {},
   "outputs": [],
   "source": [
    "img1 = cv2.imread('Data/leftTest.png')\n",
    "img1 = cv2.cvtColor(img1, cv2.COLOR_BGR2GRAY)\n",
    "img2 = cv2.imread('Data/rightTest.png')\n",
    "img2 = cv2.cvtColor(img2, cv2.COLOR_BGR2GRAY)\n",
    "pylab.imshow(img1, cmap=pylab.gray())\n",
    "pylab.show()\n",
    "pylab.imshow(img2, cmap=pylab.gray())\n",
    "pylab.show()\n",
    "\n",
    "print(img2.shape)\n",
    "print(np.min(img2))\n",
    "print(np.max(img2))\n",
    "matches = StereoMatchingBasic.stereo_matching_basic(img1, img2)\n",
    "pylab.imshow(matches, cmap=pylab.gray())\n",
    "pylab.show()\n",
    "print(matches.shape)\n",
    "print(np.min(matches))\n",
    "print(np.max(matches))"
   ]
  }
 ],
 "metadata": {
  "kernelspec": {
   "display_name": "Python 2",
   "language": "python",
   "name": "python2"
  },
  "language_info": {
   "codemirror_mode": {
    "name": "ipython",
    "version": 2
   },
   "file_extension": ".py",
   "mimetype": "text/x-python",
   "name": "python",
   "nbconvert_exporter": "python",
   "pygments_lexer": "ipython2",
   "version": "2.7.6"
  }
 },
 "nbformat": 4,
 "nbformat_minor": 0
}
